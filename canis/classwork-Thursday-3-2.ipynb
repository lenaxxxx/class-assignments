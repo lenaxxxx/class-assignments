{
 "cells": [
  {
   "cell_type": "code",
   "execution_count": 20,
   "metadata": {
    "collapsed": false
   },
   "outputs": [],
   "source": [
    "file= open(\"formatted_pbdb_data.csv\") # open the file\n",
    "canis_record = file.readlines()\n",
    "\n",
    "new_list = []\n",
    "for line in canis_record:\n",
    "    mylist = line.strip('\\n').replace('\\\"','') # removes unwanted quotation marks\n",
    "    item = mylist.split(\",\") # split lines on comma (this produces another list)\n",
    "    genus_species = item[5]\n",
    "    new_list.append(genus_species)\n",
    "    early_appearance = item[10]\n",
    "    new_list.append(early_appearance)\n",
    "    late_appearance = item[11]\n",
    "    new_list.append(late_appearance)\n",
    "\n",
    "# print(new_list)"
   ]
  },
  {
   "cell_type": "markdown",
   "metadata": {},
   "source": [
    "### Professor's way"
   ]
  },
  {
   "cell_type": "code",
   "execution_count": 2,
   "metadata": {
    "collapsed": true
   },
   "outputs": [],
   "source": [
    "## open the file\n",
    "\n",
    "infile = \"formatted_pbdb_data.csv\"\n",
    "with open(infile, 'r') as ff:\n",
    "    canid_recs = ff.readlines()\n",
    "    "
   ]
  },
  {
   "cell_type": "code",
   "execution_count": 11,
   "metadata": {
    "collapsed": false
   },
   "outputs": [],
   "source": [
    "# use defauldict\n",
    "from collections import defaultdict\n",
    "\n",
    "species_ranges = defaultdict(list)\n",
    "\n",
    "# make a dictionary\n",
    "\n",
    "for line in canid_recs:\n",
    "    species = line.split('\",\"')[5]\n",
    "    minage = line.split('\",\"')[10]\n",
    "    maxage = line.split('\",\"')[11]\n",
    "    mean_age = (float(minage) + float(maxage))/2\n",
    "    species_ranges[species].append(mean_age) #add species as keys and mean ages as elements to the list of ages\n",
    "    \n",
    "    #print(mean_age)\n",
    "    \n"
   ]
  },
  {
   "cell_type": "markdown",
   "metadata": {},
   "source": [
    "### How can we get the oldest and youngest fossils for each species in species_range???"
   ]
  },
  {
   "cell_type": "code",
   "execution_count": 25,
   "metadata": {
    "collapsed": false
   },
   "outputs": [],
   "source": [
    "output = open(\"canid-ranges.csv\",\"w\")\n",
    "\n",
    "for key in species_ranges.keys():\n",
    "    ages = species_ranges[key]\n",
    "    minage = min(ages)\n",
    "    maxage = max(ages)\n",
    "    genus = key.split(\" \")[0]\n",
    "    species = key\n",
    "    #print(genus,key,minage,maxage)\n",
    "    #output.write(genus + \" , \" + key + \" , \" + str(minage) + \" , \" + str(maxage))\n",
    "    outline = \"{},{},{},{}\\n\".format(genus, species, minage, maxage)\n",
    "    output.write(outline)\n",
    "    output.close"
   ]
  },
  {
   "cell_type": "code",
   "execution_count": null,
   "metadata": {
    "collapsed": true
   },
   "outputs": [],
   "source": []
  }
 ],
 "metadata": {
  "anaconda-cloud": {},
  "kernelspec": {
   "display_name": "Python [conda root]",
   "language": "python",
   "name": "conda-root-py"
  }
 },
 "nbformat": 4,
 "nbformat_minor": 2
}
