{
 "cells": [
  {
   "cell_type": "markdown",
   "metadata": {},
   "source": [
    "Lighting Presentation\n",
    "\n",
    "09:30 **Aditya Kantawala**: u should look at the layout of continents of the map when the dinasours existed\n",
    "\n",
    "09:34 **Justin Shieh**: maybe look at distribution of them according to the time\n",
    "\n",
    "09:38 **Sarah Kim**: the introduction was very well explained\n",
    "\n",
    "09:42 **Christina Zhou**: why do you think there are not enough fossils?\n",
    "\n",
    "09:46 **Gayane Hovsepyan**: imprvoe the graphs to make it more understandable\n",
    "\n",
    "09:50 **Roxana Nojoumi**: do you think the plants diversity really might effect the hourse diversity?\n",
    "\n",
    "09:54 **Cooper Kass**: making a map will visualize how seagrases migrate\n",
    "\n",
    "09:58 **Jeffrey Lee**: change the occurence graph according to the time\n",
    "\n",
    "10:02 **Laura Trejo**: make a visual map to see the distibution and are they migratory\n",
    "\n",
    "10:06 **Jin Kim**: when doing the graphs, maybe divide the graphs by family\n",
    "\n",
    "10:10 **Marina Salama**: make a PyRate to see the rates of extinction, speciation, etc\n",
    "\n",
    "10:14 **Erin Solis**: what was the reason of them going extinct?\n",
    "\n",
    "10:18 **Sean Mathew**: the map was super cool!!!!  the dots coming up one by one\n",
    "\n",
    "10:22 **Tiffany Dang**: for PyRate maybe increase the mcmc chain"
   ]
  },
  {
   "cell_type": "code",
   "execution_count": null,
   "metadata": {
    "collapsed": true
   },
   "outputs": [],
   "source": []
  }
 ],
 "metadata": {
  "anaconda-cloud": {},
  "kernelspec": {
   "display_name": "Python [default]",
   "language": "python",
   "name": "python3"
  },
  "language_info": {
   "codemirror_mode": {
    "name": "ipython",
    "version": 3
   },
   "file_extension": ".py",
   "mimetype": "text/x-python",
   "name": "python",
   "nbconvert_exporter": "python",
   "pygments_lexer": "ipython3",
   "version": "3.5.2"
  }
 },
 "nbformat": 4,
 "nbformat_minor": 2
}
