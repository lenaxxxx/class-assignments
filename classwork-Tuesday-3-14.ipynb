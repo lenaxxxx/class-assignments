{
 "cells": [
  {
   "cell_type": "markdown",
   "metadata": {},
   "source": [
    "Questions of Comments for Lightning Talk:\n",
    "\n",
    "09:30 Kelsey Jiang: the presentation was really nice and well organinzed, very visual and colorful\n",
    "\n",
    "09:34 Dominique Castro: nice pictures of canis >.<\n",
    "\n",
    "09:38 Linna Sun (my presentation)\n",
    "\n",
    "09:42 Ashen Parikh: \n",
    "\n",
    "09:46 Matthew Muia: bootstrapping test is a very good idea to use\n",
    "\n",
    "09:50 Antonella Gonzalez: it was interesting to hear about why they used to live in Canada; since plate is moving, Canada used to be warmer\n",
    "\n",
    "09:54 Yee Chau:  it was interesting to see the data on map and classifying them according to pre-era and post-era\n",
    "\n",
    "09:58 Kristen Lee: graph according to the geological time scale was very cool\n",
    "\n",
    "10:02 Madison Downing: it will be great if you can look at the interaction according to time\n",
    "\n",
    "10:06 Youstina Salama: looking at the graaph and relating to mass extinction will be inerseting and you might fing some interesting correlation\n",
    "\n",
    "10:10 Jeremy Wadowski: It was interesting to see how most people were below their maximum limit\n",
    "\n",
    "10:14 Mehdi Nojoumi: maybe you can try to show the tree through a timeline and see the evolution and relate it to food source.\n",
    "\n",
    "10:18 Junghoon Kim: you have very nice grapgs, and u should interpret them more\n",
    "\n",
    "10:22 Dustin Wong: for the time period code, if the species fall between 4 periods, however it only shows the early appearance and late appearance, does it still show in the code if you search the timeperiod between the early appearance and late appearance\n",
    "\n",
    "10:26 Hyein Kil: how the duck was able to migrate that far"
   ]
  }
 ],
 "metadata": {
  "anaconda-cloud": {},
  "kernelspec": {
   "display_name": "Python [default]",
   "language": "python",
   "name": "python3"
  },
  "language_info": {
   "codemirror_mode": {
    "name": "ipython",
    "version": 3
   },
   "file_extension": ".py",
   "mimetype": "text/x-python",
   "name": "python",
   "nbconvert_exporter": "python",
   "pygments_lexer": "ipython3",
   "version": "3.5.2"
  }
 },
 "nbformat": 4,
 "nbformat_minor": 2
}
